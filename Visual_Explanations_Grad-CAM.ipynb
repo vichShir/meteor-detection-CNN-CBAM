{
 "cells": [
  {
   "cell_type": "markdown",
   "metadata": {},
   "source": [
    "# Visual Explanations with Grad-CAM\n",
    "\n",
    "We performed a visual explanation analysis with **14 new real-world images**. This new set of images consists of **seven non-meteors** and **seven meteors** optical observations from **BRAMON**. We then fed the images into the best-selected classifiers and used them to generate the predictions and the heat maps."
   ]
  },
  {
   "cell_type": "code",
   "execution_count": null,
   "metadata": {},
   "outputs": [],
   "source": [
    "import tensorflow as tf\n",
    "import matplotlib.pyplot as plt\n",
    "import numpy as np\n",
    "import argparse\n",
    "import glob\n",
    "\n",
    "from tensorflow.keras.preprocessing import image\n",
    "from tf_explain.core.grad_cam import GradCAM\n",
    "from utils.visualize import explainGradCamCompare\n",
    "from utils.layers import ChannelAttention, SpatialAttention\n",
    "\n",
    "from tensorflow.compat.v1 import ConfigProto\n",
    "from tensorflow.compat.v1 import InteractiveSession\n",
    "config = ConfigProto()\n",
    "config.gpu_options.allow_growth = True\n",
    "session = InteractiveSession(config=config)\n",
    "\n",
    "parser = argparse.ArgumentParser()\n",
    "args = parser.parse_args(\"\")\n",
    "\n",
    "print(tf.__version__)\n",
    "print(\"Num GPUs Available: \", len(tf.config.list_physical_devices('GPU')))\n",
    "\n",
    "%matplotlib inline"
   ]
  },
  {
   "cell_type": "code",
   "execution_count": null,
   "metadata": {},
   "outputs": [],
   "source": [
    "# Load trained models\n",
    "model_baseline = tf.keras.models.load_model('models/baseline/vgg_finalmodel_baseline.h5')\n",
    "model_cbam = tf.keras.models.load_model('models/cbam/vgg_finalmodel_cbam.h5',\n",
    "                                        custom_objects={\n",
    "                                            \"ChannelAttention\": ChannelAttention,\n",
    "                                            \"SpatialAttention\": SpatialAttention\n",
    "                                        }\n",
    "                                       )"
   ]
  },
  {
   "cell_type": "code",
   "execution_count": null,
   "metadata": {
    "scrolled": true
   },
   "outputs": [],
   "source": [
    "# Load the new set of images\n",
    "meteor_images = glob.glob('data/visual_explanations/meteor/*.jpg')\n",
    "nonmeteor_images = glob.glob('data/visual_explanations/nonmeteor/*.jpg')\n",
    "all_images = nonmeteor_images + meteor_images\n",
    "\n",
    "# Pre-processing\n",
    "X_test = []\n",
    "y_test = np.concatenate((np.zeros((7,), dtype=np.int64), np.ones((7,), dtype=np.int64))) # zero -> nonmeteor; one -> meteor\n",
    "for filename in all_images:\n",
    "    test_image = image.load_img(filename, target_size=(224, 224))\n",
    "    test_image = image.img_to_array(test_image)\n",
    "    test_image = np.expand_dims(test_image, axis=0)\n",
    "    test_image = test_image / 255\n",
    "    X_test.append(test_image)\n",
    "\n",
    "X_test = np.array(X_test).reshape((len(all_images), 224, 224, 3))\n",
    "print(X_test.shape)\n",
    "print(y_test.shape)"
   ]
  },
  {
   "cell_type": "code",
   "execution_count": null,
   "metadata": {
    "scrolled": false
   },
   "outputs": [],
   "source": [
    "# Perform visual explanations with Grad-CAM\n",
    "explainer = GradCAM()\n",
    "\n",
    "fig, axes = plt.subplots(14, 3, figsize=(8, 32))\n",
    "fig.tight_layout()\n",
    "index = 0\n",
    "for i, package in enumerate(zip(X_test, y_test)):\n",
    "    img, label = package\n",
    "    explainGradCamCompare(i, explainer, axes[index], img,\n",
    "               label,\n",
    "               model_baseline,\n",
    "               model_baseline.predict(img[None]), \n",
    "               model_cbam,\n",
    "               model_cbam.predict(img[None]), \n",
    "               class_names=['nonmeteor', 'meteor'])\n",
    "    index += 1"
   ]
  }
 ],
 "metadata": {
  "kernelspec": {
   "display_name": "Python 3",
   "language": "python",
   "name": "python3"
  },
  "language_info": {
   "codemirror_mode": {
    "name": "ipython",
    "version": 3
   },
   "file_extension": ".py",
   "mimetype": "text/x-python",
   "name": "python",
   "nbconvert_exporter": "python",
   "pygments_lexer": "ipython3",
   "version": "3.8.10"
  }
 },
 "nbformat": 4,
 "nbformat_minor": 2
}
